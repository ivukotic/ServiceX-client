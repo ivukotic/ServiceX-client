{
 "metadata": {
  "language_info": {
   "codemirror_mode": {
    "name": "ipython",
    "version": 3
   },
   "file_extension": ".py",
   "mimetype": "text/x-python",
   "name": "python",
   "nbconvert_exporter": "python",
   "pygments_lexer": "ipython3",
   "version": "3.8.10"
  },
  "orig_nbformat": 2,
  "kernelspec": {
   "name": "python3810jvsc74a57bd0b0fd81116839c8ba9399dcfb2eae5ba98e1e79c2454f8cc2afdf03430767bf47",
   "display_name": "Python 3.8.10 64-bit (windows store)"
  },
  "metadata": {
   "interpreter": {
    "hash": "b0fd81116839c8ba9399dcfb2eae5ba98e1e79c2454f8cc2afdf03430767bf47"
   }
  }
 },
 "nbformat": 4,
 "nbformat_minor": 2,
 "cells": [
  {
   "cell_type": "code",
   "execution_count": 1,
   "metadata": {},
   "outputs": [
    {
     "output_type": "stream",
     "name": "stdout",
     "text": [
      "            JetPt\n0       36.283482\n1       34.297616\n2       16.574269\n3       11.377957\n4        9.432372\n...           ...\n857133   6.205450\n857134  47.605539\n857135  32.706245\n857136   6.254534\n857137   5.389393\n\n[11355980 rows x 1 columns]\n"
     ]
    }
   ],
   "source": [
    "from func_adl_servicex import ServiceXSourceXAOD\n",
    "\n",
    "dataset_name = \"mc15_13TeV:mc15_13TeV.361106.PowhegPythia8EvtGen_AZNLOCTEQ6L1_Zee.merge.DAOD_STDM3.e3601_s2576_s2132_r6630_r6264_p2363_tid05630052_00\"\n",
    "src = ServiceXSourceXAOD(dataset_name)\n",
    "df = src \\\n",
    "    .SelectMany('lambda e: e.Jets(\"AntiKt4EMTopoJets\")') \\\n",
    "    .Select('lambda j: j.pt()/1002.0') \\\n",
    "    .AsPandasDF('JetPt') \\\n",
    "    .value()\n",
    "print(df)\n"
   ]
  },
  {
   "cell_type": "code",
   "execution_count": null,
   "metadata": {},
   "outputs": [],
   "source": []
  }
 ]
}